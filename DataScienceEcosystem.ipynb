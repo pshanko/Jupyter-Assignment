{
 "cells": [
  {
   "cell_type": "markdown",
   "id": "52d0ec41-47f7-4983-9adb-2cfcb8ffc45c",
   "metadata": {},
   "source": [
    "# Data Science Tools and Ecosystem"
   ]
  },
  {
   "cell_type": "markdown",
   "id": "848765bd-94c0-42e9-a54e-fb22ee7a84bc",
   "metadata": {},
   "source": [
    "In this notebook, Data Science Tools and Ecosystem are summarized."
   ]
  },
  {
   "cell_type": "markdown",
   "id": "55672d1a-786d-4ab2-93a6-1458eb30d1df",
   "metadata": {},
   "source": [
    "**Objectives:**\n",
    "- List popular languages for Data Science\n",
    "- List commonly used libraries for Data Science\n",
    "- Create a table illustrating open source Data Science Tools\n",
    "- Perform simple arithmetic"
   ]
  },
  {
   "cell_type": "markdown",
   "id": "bcd363d6-00ac-4140-8cc4-a1160104b38a",
   "metadata": {},
   "source": [
    "Some of the popular languages that Data Scientists use are:\n",
    "1. Python\n",
    "2. R\n",
    "3. SQL"
   ]
  },
  {
   "cell_type": "markdown",
   "id": "722f85e4-6d8d-4882-8a8b-832f48a8cbfe",
   "metadata": {},
   "source": [
    "Some of the commonly used libraries used by Data Scientists include:\n",
    "1. Tensorflow\n",
    "2. ggplot2\n",
    "3. Pandas"
   ]
  },
  {
   "cell_type": "markdown",
   "id": "9d084438-cba6-4ec3-8437-d82093b407d7",
   "metadata": {},
   "source": [
    "| Data Science Tools |\n",
    "|--------------------|\n",
    "| Jupyter Notebooks |\n",
    "| RStudio |\n",
    "|Spyder |"
   ]
  },
  {
   "cell_type": "markdown",
   "id": "68612b6f-a9dc-431b-b6ca-554c4eb1bff7",
   "metadata": {},
   "source": [
    "### Below are a few examples of evaluating arithmetic expressions in Python."
   ]
  },
  {
   "cell_type": "code",
   "execution_count": 7,
   "id": "ae38bf94-9cc6-4a4c-8b93-cbe3c0fc5b13",
   "metadata": {},
   "outputs": [
    {
     "data": {
      "text/plain": [
       "17"
      ]
     },
     "execution_count": 7,
     "metadata": {},
     "output_type": "execute_result"
    }
   ],
   "source": [
    "# This is simple arithmetic\n",
    "(3*4)+5"
   ]
  },
  {
   "cell_type": "code",
   "execution_count": 9,
   "id": "dd20e11d-7887-4f95-8809-a1b5c2598e83",
   "metadata": {},
   "outputs": [
    {
     "data": {
      "text/plain": [
       "3.3333333333333335"
      ]
     },
     "execution_count": 9,
     "metadata": {},
     "output_type": "execute_result"
    }
   ],
   "source": [
    "# This will convert 200 minutes to hours by dividing 60\n",
    "200/60"
   ]
  },
  {
   "cell_type": "markdown",
   "id": "98c5fdfe-1696-4b66-88f4-23108150625d",
   "metadata": {},
   "source": [
    "## Author\n",
    "Philip Shanko"
   ]
  },
  {
   "cell_type": "code",
   "execution_count": null,
   "id": "6c0346d1-45e9-4dd4-827a-9977d23e4080",
   "metadata": {},
   "outputs": [],
   "source": []
  }
 ],
 "metadata": {
  "kernelspec": {
   "display_name": "Python 3 (ipykernel)",
   "language": "python",
   "name": "python3"
  },
  "language_info": {
   "codemirror_mode": {
    "name": "ipython",
    "version": 3
   },
   "file_extension": ".py",
   "mimetype": "text/x-python",
   "name": "python",
   "nbconvert_exporter": "python",
   "pygments_lexer": "ipython3",
   "version": "3.12.4"
  }
 },
 "nbformat": 4,
 "nbformat_minor": 5
}
